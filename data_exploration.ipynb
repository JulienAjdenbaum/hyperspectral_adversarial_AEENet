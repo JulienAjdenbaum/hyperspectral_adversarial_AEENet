{
 "cells": [
  {
   "cell_type": "code",
   "execution_count": null,
   "id": "7891ca87",
   "metadata": {},
   "outputs": [],
   "source": [
    "from spectral import *\n",
    "import os\n",
    "import numpy as np\n",
    "import matplotlib.pyplot as plt\n",
    "import scipy.io\n",
    "import scipy.io"
   ]
  },
  {
   "cell_type": "code",
   "execution_count": null,
   "id": "7afa8281",
   "metadata": {},
   "outputs": [],
   "source": [
    "file_dir = \"data/jasper/jasperRidge2_F224.hdr\"\n",
    "img = open_image(file_dir)\n",
    "print(f\"\\nThe image shape is {img.shape}\")\n",
    "\n",
    "plt.bar(img.bands.centers, np.ones(len(img.bands.centers)))\n",
    "plt.title(\"Bands\")\n",
    "plt.xlabel(\"Bands centers (nm)\")\n",
    "plt.show()\n",
    "\n",
    "view = imshow(img)\n",
    "print(view)\n",
    "plt.show()"
   ]
  },
  {
   "cell_type": "code",
   "execution_count": null,
   "id": "a37d4a70",
   "metadata": {},
   "outputs": [],
   "source": [
    "path_img = 'data/jasper/jasper.mat'\n",
    "mat = scipy.io.loadmat(path_img)\n",
    "img = mat[\"Y\"].reshape(mat[\"Y\"].shape[0], int(np.sqrt(mat[\"Y\"].shape[1])), int(np.sqrt(mat[\"Y\"].shape[1])))\n",
    "img = img.astype(np.float32)/np.max(img)"
   ]
  },
  {
   "cell_type": "code",
   "execution_count": null,
   "id": "2aed60aa",
   "metadata": {},
   "outputs": [],
   "source": [
    "plt.imshow(np.load(\"data/jasper/jasper_100_seg.npy\"), cmap=\"tab20\")\n",
    "plt.plot()"
   ]
  },
  {
   "cell_type": "code",
   "execution_count": null,
   "id": "f7febaa4",
   "metadata": {},
   "outputs": [],
   "source": [
    "path_img = 'data/jasper/jasper.mat'\n",
    "mat = scipy.io.loadmat(path_img)\n",
    "img = mat[\"Y\"].reshape(mat[\"Y\"].shape[0], int(np.sqrt(mat[\"Y\"].shape[1])), int(np.sqrt(mat[\"Y\"].shape[1])))\n",
    "img = img.astype(np.float32)/np.max(img)\n",
    "\n",
    "from VCA import vca\n",
    "\n",
    "print(img.shape)\n",
    "Ae, indice, Yp = vca(img.reshape((img.shape[0], 10000)),6)\n",
    "\n",
    "print(Ae.shape)\n",
    "print(indice)\n",
    "for i in range(Ae.shape[0]):\n",
    "    plt.plot(Ae[:, i])"
   ]
  },
  {
   "cell_type": "code",
   "execution_count": null,
   "id": "b040b662",
   "metadata": {},
   "outputs": [],
   "source": [
    "path_img = \"data/jasper/jasper.mat\"\n",
    "n_superpixels = 100\n",
    "data_location = \"Y\"\n",
    "bands = [35, 20, 7]\n",
    "os.system(f\"cd Entropy-rate-superpixel-segmentation; python main.py -img {path_img} -sp {n_superpixels} -R {bands[0]} -G {bands[1]} -B {bands[2]} -data {data_location}\")\n",
    "a = np.load(f\"{path_img[:-4]}_{n_superpixels}_seg.npy\")\n",
    "plt.imshow(a, cmap=\"tab20\")\n",
    "plt.show()\n",
    "\n",
    "path_img = \"data/jasper/jasper.mat\"\n",
    "n_superpixels = 100\n",
    "data_location = \"V\"\n",
    "bands = [85, 50, 10]\n",
    "os.system(f\"cd Entropy-rate-superpixel-segmentation; python main.py -img {path_img} -sp {n_superpixels} -R {bands[0]} -G {bands[1]} -B {bands[2]} -data {data_location}\")\n",
    "a = np.load(f\"{path_img[:-4]}_{n_superpixels}_seg.npy\")\n",
    "\n",
    "plt.imshow(a, cmap=\"tab20\")\n",
    "plt.show()"
   ]
  }
 ],
 "metadata": {
  "kernelspec": {
   "display_name": "Python 3 (ipykernel)",
   "language": "python",
   "name": "python3"
  },
  "language_info": {
   "codemirror_mode": {
    "name": "ipython",
    "version": 3
   },
   "file_extension": ".py",
   "mimetype": "text/x-python",
   "name": "python",
   "nbconvert_exporter": "python",
   "pygments_lexer": "ipython3",
   "version": "3.9.12"
  }
 },
 "nbformat": 4,
 "nbformat_minor": 5
}
